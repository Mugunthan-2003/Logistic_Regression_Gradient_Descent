{
 "cells": [
  {
   "cell_type": "code",
   "execution_count": 1,
   "id": "6b74c680",
   "metadata": {},
   "outputs": [],
   "source": [
    "import random\n",
    "import pandas as pd\n",
    "import numpy as np\n",
    "# Read the CSV file into a pandas DataFrame\n",
    "data = pd.read_csv(\"C:\\\\Users\\\\Mugun\\\\Desktop\\\\log.csv\")"
   ]
  },
  {
   "cell_type": "code",
   "execution_count": 2,
   "id": "bdf7095e",
   "metadata": {},
   "outputs": [
    {
     "name": "stdout",
     "output_type": "stream",
     "text": [
      "    x1   x2    y\n",
      "0  3.0  2.0  0.0\n",
      "1  3.0  3.0  0.0\n",
      "2  5.0  1.0  1.0\n",
      "3  1.0  3.0  0.0\n",
      "4  2.0  1.0  0.0\n",
      "5  6.0  4.0  0.0\n",
      "6  3.0  1.0  1.0\n",
      "7  1.0  5.0  0.0\n",
      "8  5.0  1.0  1.0\n",
      "9  1.0  1.0  0.0\n"
     ]
    }
   ],
   "source": [
    "data = data.iloc[:-3]\n",
    "print(data)"
   ]
  },
  {
   "cell_type": "code",
   "execution_count": 3,
   "id": "0e37edeb",
   "metadata": {},
   "outputs": [],
   "source": [
    "def sig(x1, x2, w1, w2):\n",
    "    z = w1 * x1 + w2 * x2\n",
    "    return 1 / (1 + np.exp(-z))\n",
    "\n",
    "def cost(x1,x2,w1,w2,y):\n",
    "    si=sig(x1,x2,w1,w2)\n",
    "    return -(y*np.log10(si+1e-30)+(1-y)*np.log10(1-si+1e-30))     #+1e-8\n",
    "\n",
    "def aver(w1,w2):\n",
    "    t=[cost(data.iloc[i].x1,data.iloc[i].x2,w1,w2,data.iloc[i].y) for i in range(10)]\n",
    "    return sum(t)/len(t)\n",
    "#aver(2.9979123689672518 , -7.001783182021187 )"
   ]
  },
  {
   "cell_type": "markdown",
   "id": "46230207",
   "metadata": {},
   "source": [
    "# stocastic gradient descent"
   ]
  },
  {
   "cell_type": "code",
   "execution_count": 4,
   "id": "8dca092d",
   "metadata": {},
   "outputs": [],
   "source": [
    "def sig(x1, x2, w1, w2):\n",
    "    z = w1 * x1 + w2 * x2\n",
    "    return 1 / (1 + np.exp(-z))"
   ]
  },
  {
   "cell_type": "code",
   "execution_count": 5,
   "id": "39f1df22",
   "metadata": {},
   "outputs": [],
   "source": [
    "def ch(x1,x2,w1,w2,y,lr):\n",
    "    dw1=(sig(x1, x2, w1, w2)-y)*x1\n",
    "    dw2=(sig(x1, x2, w1, w2)-y)*x2\n",
    "    w1-=lr*dw1\n",
    "    w2-=lr*dw2\n",
    "    return w1,w2"
   ]
  },
  {
   "cell_type": "code",
   "execution_count": 6,
   "id": "44c76c09",
   "metadata": {},
   "outputs": [],
   "source": [
    "def gd(w1,w2,lr):\n",
    "    l=[i for i in range(10)]\n",
    "    random.shuffle(l)\n",
    "    for i in l:\n",
    "        w1,w2=ch(data.iloc[i].x1,data.iloc[i].x2,w1,w2,data.iloc[i].y,lr)\n",
    "    return w1,w2"
   ]
  },
  {
   "cell_type": "code",
   "execution_count": 7,
   "id": "030f750f",
   "metadata": {},
   "outputs": [],
   "source": [
    "def percentage_difference(value1, value2):\n",
    "    return ((value1 - value2)/((value1+value2)/2))*100"
   ]
  },
  {
   "cell_type": "code",
   "execution_count": 8,
   "id": "dfcb0fc1",
   "metadata": {},
   "outputs": [],
   "source": [
    "def check(w1,w2):\n",
    "    print(\"y\\ty^\")\n",
    "    for i in range(10):\n",
    "        print(data.iloc[i].y,end=\"\\t\")\n",
    "        if(sig(data.iloc[i].x1,data.iloc[i].x2,w1,w2)>0.8):\n",
    "            print(1)\n",
    "        else:\n",
    "            print(0)\n",
    "#check(2.7914059725033833,-6.754143440593903)"
   ]
  },
  {
   "cell_type": "code",
   "execution_count": 12,
   "id": "a4eb624c",
   "metadata": {},
   "outputs": [
    {
     "name": "stdout",
     "output_type": "stream",
     "text": [
      "Epoch :  308 \n",
      "w1 =  2.8630342262523554 \n",
      "w2 =  -6.940010162625523 \n",
      "Average =  0.019934870020805726\n",
      "y\ty^\n",
      "0.0\t0\n",
      "0.0\t0\n",
      "1.0\t1\n",
      "0.0\t0\n",
      "0.0\t0\n",
      "0.0\t0\n",
      "1.0\t1\n",
      "0.0\t0\n",
      "1.0\t1\n",
      "0.0\t0\n"
     ]
    }
   ],
   "source": [
    "lr=0.1\n",
    "w1=10\n",
    "w2=10\n",
    "av=aver(w1,w2)\n",
    "bav=av\n",
    "count=0\n",
    "#print(\"1. w1=\",w1,\" w2=\",w2,\" avg=\",av)\n",
    "for j in range(1000):\n",
    "    w1,w2=gd(w1,w2,lr)\n",
    "    av=aver(w1,w2)\n",
    "    #print(j+2,\". w1=\",w1,\" w2=\",w2,\" avg=\",av)\n",
    "    if(percentage_difference(bav,av)<0.2):\n",
    "        count+=1\n",
    "    else:\n",
    "        count=0\n",
    "    if(count==10):\n",
    "        break\n",
    "    bav=av\n",
    "print(\"Epoch : \",j+2,\"\\nw1 = \",w1,\"\\nw2 = \",w2,\"\\nAverage = \",av)\n",
    "check(w1,w2)"
   ]
  },
  {
   "cell_type": "markdown",
   "id": "c574d7c6",
   "metadata": {},
   "source": [
    "# Batch gradient descent"
   ]
  },
  {
   "cell_type": "code",
   "execution_count": 13,
   "id": "9a43e659",
   "metadata": {},
   "outputs": [],
   "source": [
    "def sig(x1, x2, w1, w2):\n",
    "    z = w1 * x1 + w2 * x2\n",
    "    p=1 / (1 + np.exp(-z))\n",
    "    return p\n",
    "\n",
    "def bgd(w1,w2,lr):\n",
    "    dw1=[(sig(data.iloc[i].x1,data.iloc[i].x2, w1, w2)-data.iloc[i].y)*data.iloc[i].x1 for i in range(10)]\n",
    "    dw2=[(sig(data.iloc[i].x1,data.iloc[i].x2, w1, w2)-data.iloc[i].y)*data.iloc[i].x2 for i in range(10)]\n",
    "    w1-=lr*(sum(dw1)/len(dw1))\n",
    "    w2-=lr*(sum(dw2)/len(dw2))\n",
    "    return w1,w2"
   ]
  },
  {
   "cell_type": "code",
   "execution_count": 14,
   "id": "cb3e64c3",
   "metadata": {},
   "outputs": [],
   "source": [
    "def percentage_difference(value1, value2):\n",
    "    return ((value1 - value2)/((value1+value2)/2))*100"
   ]
  },
  {
   "cell_type": "code",
   "execution_count": 15,
   "id": "867c4a23",
   "metadata": {},
   "outputs": [],
   "source": [
    "def check(w1,w2):\n",
    "    print(\"y\\ty^\")\n",
    "    for i in range(10):\n",
    "        print(data.iloc[i].y,end=\"\\t\")\n",
    "        if(sig(data.iloc[i].x1,data.iloc[i].x2,w1,w2)>0.8):\n",
    "            print(1)\n",
    "        else:\n",
    "            print(0)\n",
    "#check(3.423758849003598, -8.372762480958373)"
   ]
  },
  {
   "cell_type": "code",
   "execution_count": 16,
   "id": "3a1ce307",
   "metadata": {},
   "outputs": [
    {
     "name": "stdout",
     "output_type": "stream",
     "text": [
      "Epoch :  1827 \n",
      "w1 =  2.97885152996468 \n",
      "w2 =  -7.266453896158529 \n",
      "Average =  0.018672160867094077\n",
      "y\ty^\n",
      "0.0\t0\n",
      "0.0\t0\n",
      "1.0\t1\n",
      "0.0\t0\n",
      "0.0\t0\n",
      "0.0\t0\n",
      "1.0\t1\n",
      "0.0\t0\n",
      "1.0\t1\n",
      "0.0\t0\n"
     ]
    }
   ],
   "source": [
    "lr=0.2\n",
    "w1=10\n",
    "w2=10\n",
    "av=aver(w1,w2)\n",
    "bav=av\n",
    "count=0\n",
    "#print(\"1. w1=\",w1,\" w2=\",w2,\" avg=\",av)\n",
    "for j in range(3500):\n",
    "    w1,w2=bgd(w1,w2,lr)\n",
    "    av=aver(w1,w2)\n",
    "    #print(j+2,\". w1=\",w1,\" w2=\",w2,\" avg=\",av)\n",
    "    if(percentage_difference(bav,av)<0.03):\n",
    "        count+=1\n",
    "    else:\n",
    "        count=0\n",
    "    if(count==10):\n",
    "        break\n",
    "    bav=av\n",
    "print(\"Epoch : \",j+2,\"\\nw1 = \",w1,\"\\nw2 = \",w2,\"\\nAverage = \",av)\n",
    "check(w1,w2)"
   ]
  },
  {
   "cell_type": "markdown",
   "id": "f63b8c56",
   "metadata": {},
   "source": [
    "# Mini Batch Gradient descent"
   ]
  },
  {
   "cell_type": "code",
   "execution_count": 17,
   "id": "5bdd86da",
   "metadata": {},
   "outputs": [],
   "source": [
    "def mbgd(w1,w2,lr):\n",
    "    bs=5\n",
    "    l=[i for i in range(10)]\n",
    "    random.shuffle(l)\n",
    "    for i in range(0,len(l),bs):\n",
    "        l1=l[i:i+bs]\n",
    "        dw1=[(sig(data.iloc[i].x1,data.iloc[i].x2, w1, w2)-data.iloc[i].y)*data.iloc[i].x1 for i in l1]\n",
    "        dw2=[(sig(data.iloc[i].x1,data.iloc[i].x2, w1, w2)-data.iloc[i].y)*data.iloc[i].x2 for i in l1]\n",
    "        w1-=lr*(sum(dw1)/len(dw1))\n",
    "        w2-=lr*(sum(dw2)/len(dw2))\n",
    "        #w1,w2=ch(data.iloc[i].x1,data.iloc[i].x2,w1,w2,data.iloc[i].y,lr)\n",
    "    return w1,w2"
   ]
  },
  {
   "cell_type": "code",
   "execution_count": 18,
   "id": "2e522d4f",
   "metadata": {},
   "outputs": [],
   "source": [
    "def percentage_difference(value1, value2):\n",
    "    return ((value1 - value2)/((value1+value2)/2))*100"
   ]
  },
  {
   "cell_type": "code",
   "execution_count": 19,
   "id": "675aa5db",
   "metadata": {},
   "outputs": [],
   "source": [
    "def check(w1,w2):\n",
    "    print(\"y\\ty^\")\n",
    "    for i in range(10):\n",
    "        print(data.iloc[i].y,end=\"\\t\")\n",
    "        if(sig(data.iloc[i].x1,data.iloc[i].x2,w1,w2)>0.8):\n",
    "            print(1)\n",
    "        else:\n",
    "            print(0)"
   ]
  },
  {
   "cell_type": "code",
   "execution_count": 20,
   "id": "b4aa8bff",
   "metadata": {},
   "outputs": [
    {
     "name": "stdout",
     "output_type": "stream",
     "text": [
      "Epoch :  1843 \n",
      "w1 =  2.9939120967953223 \n",
      "w2 =  -7.3045764383925444 \n",
      "Average =  0.018530143863240013\n",
      "y\ty^\n",
      "0.0\t0\n",
      "0.0\t0\n",
      "1.0\t1\n",
      "0.0\t0\n",
      "0.0\t0\n",
      "0.0\t0\n",
      "1.0\t1\n",
      "0.0\t0\n",
      "1.0\t1\n",
      "0.0\t0\n"
     ]
    }
   ],
   "source": [
    "lr=0.1\n",
    "w1=10\n",
    "w2=10\n",
    "av=aver(w1,w2)\n",
    "bav=av\n",
    "count=0\n",
    "#print(\"1. w1=\",w1,\" w2=\",w2,\" avg=\",av)\n",
    "for j in range(3000):\n",
    "    w1,w2=mbgd(w1,w2,lr)\n",
    "    av=aver(w1,w2)\n",
    "    #print(j+2,\". w1=\",w1,\" w2=\",w2,\" avg=\",av)\n",
    "    if(percentage_difference(bav,av)<0.03):\n",
    "        count+=1\n",
    "    else:\n",
    "        count=0\n",
    "    if(count==10):\n",
    "        break\n",
    "    bav=av\n",
    "print(\"Epoch : \",j+2,\"\\nw1 = \",w1,\"\\nw2 = \",w2,\"\\nAverage = \",av)\n",
    "check(w1,w2)"
   ]
  }
 ],
 "metadata": {
  "kernelspec": {
   "display_name": "Python 3 (ipykernel)",
   "language": "python",
   "name": "python3"
  },
  "language_info": {
   "codemirror_mode": {
    "name": "ipython",
    "version": 3
   },
   "file_extension": ".py",
   "mimetype": "text/x-python",
   "name": "python",
   "nbconvert_exporter": "python",
   "pygments_lexer": "ipython3",
   "version": "3.9.6"
  }
 },
 "nbformat": 4,
 "nbformat_minor": 5
}
